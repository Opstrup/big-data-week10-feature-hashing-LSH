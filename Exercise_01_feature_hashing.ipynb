{
 "cells": [
  {
   "cell_type": "code",
   "execution_count": 80,
   "metadata": {},
   "outputs": [],
   "source": [
    "import json\n",
    "import os\n",
    "import math\n",
    "from sklearn.feature_extraction.text import CountVectorizer\n",
    "from sklearn.ensemble import RandomForestClassifier\n",
    "DATA_FOLDER = '../reuters-21578-json/data/full/'"
   ]
  },
  {
   "cell_type": "code",
   "execution_count": 33,
   "metadata": {},
   "outputs": [],
   "source": [
    "def get_json_content_of_files_in_folder(path):\n",
    "    json_files_collection = []\n",
    "    json_documents = []\n",
    "    for file in os.listdir(path):\n",
    "        json_files_collection.append(json.load(open(path + file)))\n",
    "        \n",
    "    for json_files in json_files_collection:\n",
    "        for json_file in json_files:\n",
    "            json_documents.append(json_file)\n",
    "        \n",
    "    return json_documents"
   ]
  },
  {
   "cell_type": "code",
   "execution_count": 35,
   "metadata": {
    "collapsed": true
   },
   "outputs": [],
   "source": [
    "def filter_documents(documents):\n",
    "    filtered_documents = []\n",
    "    for document in documents:\n",
    "        if 'topics' in document and 'body' in document:\n",
    "            filtered_documents.append(document)\n",
    "            \n",
    "    return filtered_documents"
   ]
  },
  {
   "cell_type": "code",
   "execution_count": 69,
   "metadata": {
    "collapsed": true
   },
   "outputs": [],
   "source": [
    "def create_bag_of_words(documents):\n",
    "    vectorizer = CountVectorizer(lowercase=True)\n",
    "    document_list = []\n",
    "    for document in documents:\n",
    "        document_list.append(document['body'])\n",
    "        \n",
    "    return vectorizer.fit_transform(document_list).toarray()"
   ]
  },
  {
   "cell_type": "code",
   "execution_count": 96,
   "metadata": {
    "collapsed": true
   },
   "outputs": [],
   "source": [
    "def get_y_from_documents(documents):\n",
    "    y = []\n",
    "    for document in documents:\n",
    "        y.append(document['topics'][0])\n",
    "        \n",
    "    return y"
   ]
  },
  {
   "cell_type": "code",
   "execution_count": 89,
   "metadata": {
    "collapsed": true
   },
   "outputs": [],
   "source": [
    "def devide_to_train_and_test_set(X, y, proc_train):\n",
    "    proc_test = 100 - proc_train\n",
    "    num_train = round(len(X) / 100 * proc_train)\n",
    "    num_test = round(len(X) / 100 * proc_test)\n",
    "    \n",
    "    return (X[:num_train], y[:num_train], X[num_train:], y[num_train:])"
   ]
  },
  {
   "cell_type": "code",
   "execution_count": 97,
   "metadata": {},
   "outputs": [],
   "source": [
    "documents = filter_documents( get_json_content_of_files_in_folder(DATA_FOLDER) )\n",
    "X = create_bag_of_words(documents)\n",
    "y = get_y_from_documents(documents)"
   ]
  },
  {
   "cell_type": "code",
   "execution_count": 98,
   "metadata": {},
   "outputs": [
    {
     "data": {
      "text/plain": [
       "RandomForestClassifier(bootstrap=True, class_weight=None, criterion='gini',\n",
       "            max_depth=None, max_features='auto', max_leaf_nodes=None,\n",
       "            min_impurity_decrease=0.0, min_impurity_split=None,\n",
       "            min_samples_leaf=1, min_samples_split=2,\n",
       "            min_weight_fraction_leaf=0.0, n_estimators=50, n_jobs=1,\n",
       "            oob_score=False, random_state=None, verbose=0,\n",
       "            warm_start=False)"
      ]
     },
     "execution_count": 98,
     "metadata": {},
     "output_type": "execute_result"
    }
   ],
   "source": [
    "randomForestClassifier = RandomForestClassifier(n_estimators=50)\n",
    "trainX, trainy, testX, testy = devide_to_train_and_test_set(X, y, 80)\n",
    "randomForestClassifier.fit(trainX, trainy)"
   ]
  },
  {
   "cell_type": "code",
   "execution_count": 99,
   "metadata": {},
   "outputs": [
    {
     "data": {
      "text/plain": [
       "0.72819277108433733"
      ]
     },
     "execution_count": 99,
     "metadata": {},
     "output_type": "execute_result"
    }
   ],
   "source": [
    "randomForestClassifier.score(testX, testy)"
   ]
  },
  {
   "cell_type": "code",
   "execution_count": null,
   "metadata": {
    "collapsed": true
   },
   "outputs": [],
   "source": []
  }
 ],
 "metadata": {
  "kernelspec": {
   "display_name": "Python 3",
   "language": "python",
   "name": "python3"
  },
  "language_info": {
   "codemirror_mode": {
    "name": "ipython",
    "version": 3
   },
   "file_extension": ".py",
   "mimetype": "text/x-python",
   "name": "python",
   "nbconvert_exporter": "python",
   "pygments_lexer": "ipython3",
   "version": "3.6.2"
  }
 },
 "nbformat": 4,
 "nbformat_minor": 2
}
