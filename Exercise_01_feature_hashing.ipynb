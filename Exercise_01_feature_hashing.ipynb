{
 "cells": [
  {
   "cell_type": "code",
   "execution_count": 16,
   "metadata": {
    "collapsed": true
   },
   "outputs": [],
   "source": [
    "import json\n",
    "import os\n",
    "import math\n",
    "from sklearn.feature_extraction.text import CountVectorizer\n",
    "from sklearn.ensemble import RandomForestClassifier\n",
    "from sklearn.feature_extraction import FeatureHasher\n",
    "DATA_FOLDER = '../reuters-21578-json/data/full/'"
   ]
  },
  {
   "cell_type": "code",
   "execution_count": 2,
   "metadata": {
    "collapsed": true
   },
   "outputs": [],
   "source": [
    "def get_json_content_of_files_in_folder(path):\n",
    "    json_files_collection = []\n",
    "    json_documents = []\n",
    "    for file in os.listdir(path):\n",
    "        json_files_collection.append(json.load(open(path + file)))\n",
    "        \n",
    "    for json_files in json_files_collection:\n",
    "        for json_file in json_files:\n",
    "            json_documents.append(json_file)\n",
    "        \n",
    "    return json_documents"
   ]
  },
  {
   "cell_type": "code",
   "execution_count": 3,
   "metadata": {
    "collapsed": true
   },
   "outputs": [],
   "source": [
    "def filter_documents(documents):\n",
    "    filtered_documents = []\n",
    "    for document in documents:\n",
    "        if 'topics' in document and 'body' in document:\n",
    "            filtered_documents.append(document)\n",
    "            \n",
    "    return filtered_documents"
   ]
  },
  {
   "cell_type": "code",
   "execution_count": 35,
   "metadata": {
    "collapsed": true
   },
   "outputs": [],
   "source": [
    "def create_bag_of_words(documents):\n",
    "    vectorizer = CountVectorizer(lowercase=True)\n",
    "    document_list = []\n",
    "    for document in documents:\n",
    "        document_list.append(document['body'])\n",
    "        \n",
    "    return vectorizer.fit_transform(document_list).toarray()"
   ]
  },
  {
   "cell_type": "code",
   "execution_count": 31,
   "metadata": {
    "collapsed": true
   },
   "outputs": [],
   "source": [
    "def create_feature_hashing(documents):\n",
    "    feature_hasher = FeatureHasher(n_features=1000, input_type='string')\n",
    "    document_list = []\n",
    "    for document in documents:\n",
    "        document_list.append(document['body'])\n",
    "        \n",
    "    return feature_hasher.transform(document_list).toarray()"
   ]
  },
  {
   "cell_type": "code",
   "execution_count": 11,
   "metadata": {},
   "outputs": [],
   "source": [
    "def get_y_from_documents(documents):\n",
    "    y = []\n",
    "    for document in documents:\n",
    "        if 'earn' in document['topics']:\n",
    "            y.append(True)\n",
    "        else:\n",
    "            y.append(False)\n",
    "        \n",
    "    return y"
   ]
  },
  {
   "cell_type": "code",
   "execution_count": 12,
   "metadata": {
    "collapsed": true
   },
   "outputs": [],
   "source": [
    "def devide_to_train_and_test_set(X, y, proc_train):\n",
    "    proc_test = 100 - proc_train\n",
    "    num_train = round(len(X) / 100 * proc_train)\n",
    "    num_test = round(len(X) / 100 * proc_test)\n",
    "    \n",
    "    return (X[:num_train], y[:num_train], X[num_train:], y[num_train:])"
   ]
  },
  {
   "cell_type": "markdown",
   "metadata": {},
   "source": [
    "## Preparing the documents"
   ]
  },
  {
   "cell_type": "code",
   "execution_count": 19,
   "metadata": {},
   "outputs": [],
   "source": [
    "documents = filter_documents( get_json_content_of_files_in_folder(DATA_FOLDER) )"
   ]
  },
  {
   "cell_type": "markdown",
   "metadata": {},
   "source": [
    "### Running the random forest classifier with bag of words"
   ]
  },
  {
   "cell_type": "code",
   "execution_count": 37,
   "metadata": {},
   "outputs": [
    {
     "name": "stdout",
     "output_type": "stream",
     "text": [
      "Score for bag of words:  0.956626506024\n"
     ]
    }
   ],
   "source": [
    "X_bag_of_words = create_bag_of_words(documents)\n",
    "y_bag_of_words = get_y_from_documents(documents)\n",
    "randomForestClassifier = RandomForestClassifier(n_estimators=50)\n",
    "trainX, trainy, testX, testy = devide_to_train_and_test_set(X_bag_of_words, y_bag_of_words, 80)\n",
    "randomForestClassifier.fit(trainX, trainy)\n",
    "print('Score for bag of words: ', randomForestClassifier.score(testX, testy))"
   ]
  },
  {
   "cell_type": "markdown",
   "metadata": {},
   "source": [
    "### Running the random forest classifier with feature hashing using 1000 buckets"
   ]
  },
  {
   "cell_type": "code",
   "execution_count": 38,
   "metadata": {},
   "outputs": [
    {
     "name": "stdout",
     "output_type": "stream",
     "text": [
      "Score for bag of words:  0.923373493976\n"
     ]
    }
   ],
   "source": [
    "X_feature_hashing = create_feature_hashing(documents)\n",
    "y_feature_hashing = get_y_from_documents(documents)\n",
    "randomForestClassifier = RandomForestClassifier(n_estimators=50)\n",
    "trainX, trainy, testX, testy = devide_to_train_and_test_set(X_feature_hashing, y_feature_hashing, 80)\n",
    "randomForestClassifier.fit(trainX, trainy)\n",
    "print('Score for bag of words: ', randomForestClassifier.score(testX, testy))"
   ]
  }
 ],
 "metadata": {
  "kernelspec": {
   "display_name": "Python 3",
   "language": "python",
   "name": "python3"
  },
  "language_info": {
   "codemirror_mode": {
    "name": "ipython",
    "version": 3
   },
   "file_extension": ".py",
   "mimetype": "text/x-python",
   "name": "python",
   "nbconvert_exporter": "python",
   "pygments_lexer": "ipython3",
   "version": "3.6.2"
  }
 },
 "nbformat": 4,
 "nbformat_minor": 2
}
