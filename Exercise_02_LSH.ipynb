{
 "cells": [
  {
   "cell_type": "code",
   "execution_count": 30,
   "metadata": {},
   "outputs": [],
   "source": [
    "import os, sys\n",
    "import PIL\n",
    "import numpy\n",
    "from datasketch import MinHash, MinHashLSH\n",
    "from PIL import Image"
   ]
  },
  {
   "cell_type": "code",
   "execution_count": 35,
   "metadata": {},
   "outputs": [],
   "source": [
    "def convert_to_hash(img_path):\n",
    "    # Converte img to grayscale & resize img\n",
    "    img = Image.open(img_path).convert('LA').resize((10,10), PIL.Image.ANTIALIAS)\n",
    "    numpy_array = numpy.array(img)\n",
    "    min_hash = MinHash(num_perm=128)\n",
    "    # Hash img\n",
    "    for val in numpy_array:\n",
    "        min_hash.update(val)\n",
    "        \n",
    "    return min_hash"
   ]
  },
  {
   "cell_type": "code",
   "execution_count": 41,
   "metadata": {},
   "outputs": [
    {
     "name": "stdout",
     "output_type": "stream",
     "text": [
      "Approximate neighbours with Jaccard similarity > 0.8 ['cat1']\n"
     ]
    }
   ],
   "source": [
    "cat1 = convert_to_hash('cat.jpg')\n",
    "cat2 = convert_to_hash('cat2.jpg') # Has red square in img\n",
    "cat3 = convert_to_hash('cat3.jpg') # Rotated 180\n",
    "cat4 = convert_to_hash('cat4.jpg') # Is same as cat1\n",
    "\n",
    "# Create LSH index\n",
    "lsh = MinHashLSH(threshold=0.8, num_perm=128)\n",
    "lsh.insert(\"cat1\", cat1)\n",
    "lsh.insert(\"cat2\", cat2)\n",
    "lsh.insert(\"cat3\", cat3)\n",
    "\n",
    "result = lsh.query(cat4)\n",
    "print(\"Approximate neighbours with Jaccard similarity > 0.8\", result)"
   ]
  },
  {
   "cell_type": "code",
   "execution_count": null,
   "metadata": {
    "collapsed": true
   },
   "outputs": [],
   "source": []
  }
 ],
 "metadata": {
  "kernelspec": {
   "display_name": "Python 3",
   "language": "python",
   "name": "python3"
  },
  "language_info": {
   "codemirror_mode": {
    "name": "ipython",
    "version": 3
   },
   "file_extension": ".py",
   "mimetype": "text/x-python",
   "name": "python",
   "nbconvert_exporter": "python",
   "pygments_lexer": "ipython3",
   "version": "3.6.2"
  }
 },
 "nbformat": 4,
 "nbformat_minor": 2
}
